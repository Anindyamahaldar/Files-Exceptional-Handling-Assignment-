{
  "nbformat": 4,
  "nbformat_minor": 0,
  "metadata": {
    "colab": {
      "provenance": []
    },
    "kernelspec": {
      "name": "python3",
      "display_name": "Python 3"
    },
    "language_info": {
      "name": "python"
    }
  },
  "cells": [
    {
      "cell_type": "markdown",
      "source": [
        "# Files, exceptional handling, logging and memory management"
      ],
      "metadata": {
        "id": "jvKHF6xaus8-"
      }
    },
    {
      "cell_type": "markdown",
      "source": [
        "# Assignment Questions"
      ],
      "metadata": {
        "id": "gbpAirQUvV08"
      }
    },
    {
      "cell_type": "markdown",
      "source": [
        "# Files, exceptional handling, logging and memory management Questions"
      ],
      "metadata": {
        "id": "VF7hqcrevaob"
      }
    },
    {
      "cell_type": "markdown",
      "source": [
        "1. What is the difference between interpreted and compiled languages?\n",
        "   - An interpreted language is executed line-by-line directly by an interpreter, meaning the code is translated into machine code each time it runs, while a compiled language is first converted entirely into machine code by a compiler before execution, resulting in faster runtime performance but requiring a separate compilation step beforehand; essentially, interpreted languages are \"translated on the fly\" while compiled languages are translated once and then run directly.\n",
        "\n",
        "2. What is exception handling in Python?\n",
        "   - In the example, we are trying to divide a number by 0. Here, this code generates an exception. To handle the exception, we have put the code, result = numerator/denominator inside the try block. Now when an exception occurs, the rest of the code inside the try block is skipped.\n",
        "\n",
        "3. What is the purpose of the finally block in exception handling?\n",
        "   - A \"finally\" block in exception handling is used to execute a specific piece of code regardless of whether an exception is thrown or not, ensuring that critical cleanup tasks like closing files, releasing database connections, or other resource management are always performed, even if an error occurs during the execution of the \"try\" block.\n",
        "\n",
        "4. What is logging in Python?\n",
        "   - Python logging is a module that allows you to track events that occur while your program is running. You can use logging to record information about errors, warnings, and other events that occur during program execution. And logging is a useful tool for debugging, troubleshooting, and monitoring your program.\n",
        "\n",
        "5. What is the significance of the __del__ method in Python?\n",
        "   - Purpose: The __del__ method is used to define the actions that should be performed before an object is destroyed. This can include releasing external resources such as files or database connections associated with the object.\n",
        "\n",
        "6. What is the difference between import and from ... import in Python?\n",
        "   - The difference is that \"from <module/file> import <class/module>\" is used for importing some specific thing from that file/module. In the other hand \"Import<module> is used for importing the whole module/file.\n",
        "\n",
        "7. How can you handle multiple exceptions in Python?\n",
        "   - Python allows you to catch multiple exceptions in a single 'except' block by specifying them as a tuple. This feature is useful when different exceptions require similar handling logic. In this case, if either 'ExceptionType1' or 'ExceptionType2' is raised, the code within the 'except' block will be executed.\n",
        "\n",
        "8. What is the purpose of the with statement when handling files in Python?\n",
        "   - In Python, the \"with\" statement is used when handling files to ensure that the file is automatically closed after the code block finishes execution, even if an exception occurs, preventing potential resource leaks and improving code cleanliness; essentially, it takes care of opening and closing the file properly without needing explicit \"close()\" calls within your code.\n",
        "\n",
        "9. What is the difference between multithreading and multiprocessing?\n",
        "   - Multithreading refers to the ability of a processor to execute multiple threads concurrently, where each thread runs a process. Multiprocessing refers to the ability of a system to run multiple processors in parallel, where each processor can run one or more threads.\n",
        "\n",
        "10. What are the advantages of using logging in a program?\n",
        "    - Using logging in a program provides several advantages, including: easier debugging and troubleshooting by tracking events and errors, better understanding of application behavior, identifying performance bottlenecks, monitoring system health, auditing user activity, and improving overall application stability by enabling faster issue resolution; essentially giving developers a detailed record of what's happening within the program, allowing them to diagnose problems more efficiently.\n",
        "\n",
        "11. What is memory management in Python?\n",
        "    - In Python, \"memory management\" refers to the process of automatically allocating and deallocating memory for objects within a program, where the Python interpreter handles the task of managing the memory used by your code, primarily through a system called \"reference counting\" and \"garbage collection\", ensuring efficient use of RAM without explicit manual intervention from the programmer.\n",
        "\n",
        "12. What are the basic steps involved in exception handling in Python?\n",
        "    - In Python, exceptions are caught and handled using the 'try' and 'except' block. 'try' contains the code segment which is susceptible to error, while 'except' is where the program should jump in case an exception occurs. You can use multiple 'except' blocks for handling different types of exceptions.\n",
        "\n",
        "13. Why is memory management important in Python?\n",
        "    - Memory management is important in Python because it directly impacts the performance and efficiency of your code, allowing you to write applications that run smoothly without consuming excessive system resources by ensuring that memory is allocated and deallocated effectively, preventing issues like memory leaks and optimizing resource usage, even though Python largely handles memory management automatically through its garbage collector mechanism; understanding how this works helps developers write more efficient code.\n",
        "\n",
        "14. What is the role of try and except in exception handling?\n",
        "    - In exception handling, \"try\" is used to define a block of code where an error might occur, while \"except\" is used to handle the error that is raised within the \"try\" block, allowing your program to continue execution even when an exception happens instead of crashing; essentially, \"try\" attempts to execute the code, and \"except\" defines what to do if an exception is thrown during that execution.\n",
        "\n",
        "15. How does Python's garbage collection system work?\n",
        "    -  Python's garbage collection algorithm is very useful for opening up space in the memory. Garbage collection is implemented in Python in two ways: reference counting and generational. When the reference count of an object reaches 0, the reference counting garbage collection algorithm cleans up the object immediately.\n",
        "\n",
        "16. What is the purpose of the else block in exception handling?\n",
        "    - In exception handling, the \"else\" block is used to execute a specific code block only when no exceptions are raised within the \"try\" block, essentially acting as a way to perform additional operations when the code executes without errors; it allows you to separate the error handling logic from the normal execution flow when no exceptions occur.\n",
        "\n",
        "17. What are the common logging levels in Python?\n",
        "    - The specific log levels available to you may defer depending on the programming language, logging framework, or service in use. However, in most cases, you can expect to encounter levels such as FATAL , ERROR , WARN , INFO , DEBUG , and TRACE .\n",
        "\n",
        "18. What is the difference between os.fork() and multiprocessing in Python?\n",
        "    - Forking and spawning are two different start methods for new processes. Fork is the default on Linux (it isn't available on Windows), while Windows and MacOS use spawn by default.\n",
        "\n",
        "19. What is the importance of closing a file in Python?\n",
        "    - Python does not flush the buffer that is writing data to the file until it is certain you are finished writing, which can be accomplished by closing the file. If you write to a file without closing it, the data will not be saved to the destination file.\n",
        "\n",
        "20. What is the difference between file.read() and file.readline() in Python?\n",
        "    - The `read()` method can be used to read binary data or text from a file, while the `readline()` method is typically used for reading lines of text. 4) When using `read()`, you need to specify the number of characters you want to read, while `readline()` automatically reads until a newline character is encountered.\n",
        "\n",
        "21. What is the logging module in Python used for?\n",
        "    - Python logging is a module that allows you to track events that occur while your program is running. You can use logging to record information about errors, warnings, and other events that occur during program execution. And logging is a useful tool for debugging, troubleshooting, and monitoring your program.\n",
        "\n",
        "22. What is the os module in Python used for in file handling?\n",
        "    - This module provides a portable way of using operating system dependent functionality. If you just want to read or write a file see open() , if you want to manipulate paths, see the os.path module, and if you want to read all the lines in all the files on the command line see the fileinput module.\n",
        "\n",
        "23. What are the challenges associated with memory management in Python?\n",
        "    - The primary challenge with memory management in Python is the potential for \"memory leaks\" where objects that are no longer needed are not properly released by the garbage collector, leading to increased memory usage over time and potential performance issues; this often occurs due to circular references between objects, where objects reference each other and prevent the garbage collector from reclaiming them.\n",
        "\n",
        "24. How do you raise an exception manually in Python?\n",
        "    - To manually raise an exception in Python, use the raise statement. Here is an example of how to use it: Copied! In this example, the calculate_payment function raises a ValueError exception if the payment_type is not either \"Visa\" or \"Mastercard\".\n",
        "\n",
        "25. Why is it important to use multithreading in certain applications?\n",
        "    - Multithreading is important in certain applications because it allows multiple tasks to execute seemingly simultaneously, improving the responsiveness and performance of an application by utilizing multiple CPU cores efficiently, especially when dealing with operations that involve waiting for input/output (I/O) like network requests, which prevents the application from freezing while waiting for a response; this is particularly beneficial in applications with a graphical user interface (GUI) or high concurrent workloads."
      ],
      "metadata": {
        "id": "34HbVHOHvd18"
      }
    },
    {
      "cell_type": "markdown",
      "source": [
        "# Practical Questions"
      ],
      "metadata": {
        "id": "oEX-FpGpy60M"
      }
    },
    {
      "cell_type": "markdown",
      "source": [
        "# 1. How can you open a file for writing in Python and write a string to it?"
      ],
      "metadata": {
        "id": "dFOp2TUwy_NK"
      }
    },
    {
      "cell_type": "code",
      "execution_count": 1,
      "metadata": {
        "id": "z8yzVDJ5uB-0"
      },
      "outputs": [],
      "source": [
        "def write_string_to_file(filename, string_to_write):\n",
        "  \"\"\"\n",
        "  Opens a file for writing in Python and writes a string to it.\n",
        "\n",
        "  Args:\n",
        "    filename: The name of the file to write to.\n",
        "    string_to_write: The string to write to the file.\n",
        "  \"\"\"\n",
        "\n",
        "  try:\n",
        "    with open(filename, 'w') as file:\n",
        "      file.write(string_to_write)\n",
        "  except IOError:\n",
        "    print(f\"An error occurred while writing to {filename}\")\n",
        "\n",
        "# Example usage:\n",
        "filename = \"my_file.txt\"\n",
        "my_string = \"This is the string to write to the file.\"\n",
        "\n",
        "write_string_to_file(filename, my_string)"
      ]
    },
    {
      "cell_type": "markdown",
      "source": [
        "# 2. Write a Python program to read the contents of a file and print each line."
      ],
      "metadata": {
        "id": "jzzzuPXMzMYU"
      }
    },
    {
      "cell_type": "code",
      "source": [
        "def read_and_print_file(filename):\n",
        "  \"\"\"\n",
        "  Reads the contents of a file and prints each line.\n",
        "\n",
        "  Args:\n",
        "    filename: The name of the file to read.\n",
        "  \"\"\"\n",
        "\n",
        "  try:\n",
        "    with open(filename, 'r') as file:\n",
        "      for line in file:\n",
        "        print(line.strip())  # Remove newline characters from each line\n",
        "  except FileNotFoundError:\n",
        "    print(f\"File '{filename}' not found.\")\n",
        "  except IOError:\n",
        "    print(f\"An error occurred while reading '{filename}'.\")\n",
        "\n",
        "# Example usage:\n",
        "filename = \"my_file.txt\"\n",
        "read_and_print_file(filename)"
      ],
      "metadata": {
        "colab": {
          "base_uri": "https://localhost:8080/"
        },
        "id": "GsiQfbNDzKo4",
        "outputId": "10a75cd7-92a2-4972-cc97-dde8ac1c542c"
      },
      "execution_count": 2,
      "outputs": [
        {
          "output_type": "stream",
          "name": "stdout",
          "text": [
            "This is the string to write to the file.\n"
          ]
        }
      ]
    },
    {
      "cell_type": "markdown",
      "source": [
        "# 3. How would you handle a case where the file doesn't exist while trying to open it for reading?"
      ],
      "metadata": {
        "id": "ldrWEmTlzZ2z"
      }
    },
    {
      "cell_type": "code",
      "source": [
        "def read_and_print_file(filename):\n",
        "  \"\"\"\n",
        "  Reads the contents of a file and prints each line.\n",
        "\n",
        "  Args:\n",
        "    filename: The name of the file to read.\n",
        "\n",
        "  Raises:\n",
        "    FileNotFoundError: If the file does not exist.\n",
        "  \"\"\"\n",
        "\n",
        "  try:\n",
        "    with open(filename, 'r') as file:\n",
        "      for line in file:\n",
        "        print(line.strip())\n",
        "  except FileNotFoundError:\n",
        "    # Raise the exception to be handled by the calling code\n",
        "    raise FileNotFoundError(f\"File '{filename}' not found.\")\n",
        "\n",
        "# Example usage:\n",
        "filename = \"my_file.txt\"\n",
        "\n",
        "try:\n",
        "  read_and_print_file(filename)\n",
        "except FileNotFoundError as e:\n",
        "  print(f\"Error: {e}\")"
      ],
      "metadata": {
        "colab": {
          "base_uri": "https://localhost:8080/"
        },
        "id": "RiF7Uyf9zUzz",
        "outputId": "2ac6c111-606e-445d-df75-255cb8da22f4"
      },
      "execution_count": 3,
      "outputs": [
        {
          "output_type": "stream",
          "name": "stdout",
          "text": [
            "This is the string to write to the file.\n"
          ]
        }
      ]
    },
    {
      "cell_type": "markdown",
      "source": [
        "# 4. Write a Python script that reads from one file and writes its content to another file."
      ],
      "metadata": {
        "id": "EYgUCPKXzqbx"
      }
    },
    {
      "cell_type": "code",
      "source": [
        "def copy_file(source_file, destination_file):\n",
        "  \"\"\"\n",
        "  Reads from one file and writes its content to another file.\n",
        "\n",
        "  Args:\n",
        "    source_file: The name of the file to read from.\n",
        "    destination_file: The name of the file to write to.\n",
        "  \"\"\"\n",
        "\n",
        "  try:\n",
        "    with open(source_file, 'r') as source, open(destination_file, 'w') as destination:\n",
        "      for line in source:\n",
        "        destination.write(line)\n",
        "  except FileNotFoundError:\n",
        "    print(f\"Error: Source file '{source_file}' not found.\")\n",
        "  except IOError as e:\n",
        "    print(f\"An I/O error occurred: {e}\")\n",
        "\n",
        "# Example usage:\n",
        "source_filename = \"input.txt\"\n",
        "destination_filename = \"output.txt\"\n",
        "\n",
        "copy_file(source_filename, destination_filename)"
      ],
      "metadata": {
        "colab": {
          "base_uri": "https://localhost:8080/"
        },
        "id": "A6OpZKv9zjhT",
        "outputId": "c49eefbf-a3e0-4ac1-c1a3-166be1c215f2"
      },
      "execution_count": 4,
      "outputs": [
        {
          "output_type": "stream",
          "name": "stdout",
          "text": [
            "Error: Source file 'input.txt' not found.\n"
          ]
        }
      ]
    },
    {
      "cell_type": "markdown",
      "source": [
        "# 5. How would you catch and handle division by zero error in Python?"
      ],
      "metadata": {
        "id": "YZ6FBzMqz11x"
      }
    },
    {
      "cell_type": "code",
      "source": [
        "def safe_division(numerator, denominator):\n",
        "  \"\"\"\n",
        "  Performs division and handles potential ZeroDivisionError.\n",
        "\n",
        "  Args:\n",
        "    numerator: The dividend.\n",
        "    denominator: The divisor.\n",
        "\n",
        "  Returns:\n",
        "    The result of the division if successful, otherwise None.\n",
        "  \"\"\"\n",
        "\n",
        "  try:\n",
        "    result = numerator / denominator\n",
        "  except ZeroDivisionError:\n",
        "    print(\"Error: Division by zero is not allowed.\")\n",
        "    result = None\n",
        "  return result\n",
        "\n",
        "# Example usage:\n",
        "num1 = 10\n",
        "num2 = 0\n",
        "\n",
        "result = safe_division(num1, num2)\n",
        "\n",
        "if result is not None:\n",
        "  print(\"Result:\", result)"
      ],
      "metadata": {
        "colab": {
          "base_uri": "https://localhost:8080/"
        },
        "id": "cHzxQbZCzwL0",
        "outputId": "55017d30-1f83-458a-8d32-03f770b4a588"
      },
      "execution_count": 5,
      "outputs": [
        {
          "output_type": "stream",
          "name": "stdout",
          "text": [
            "Error: Division by zero is not allowed.\n"
          ]
        }
      ]
    },
    {
      "cell_type": "markdown",
      "source": [
        "# 6. Write a Python program that logs an error message to a log file when a division by zero exception occurs."
      ],
      "metadata": {
        "id": "0GTc5hCy0FMx"
      }
    },
    {
      "cell_type": "code",
      "source": [
        "import logging\n",
        "\n",
        "def safe_division(numerator, denominator):\n",
        "  \"\"\"\n",
        "  Performs division and logs a division by zero error.\n",
        "\n",
        "  Args:\n",
        "    numerator: The dividend.\n",
        "    denominator: The divisor.\n",
        "\n",
        "  Returns:\n",
        "    The result of the division if successful, otherwise None.\n",
        "  \"\"\"\n",
        "\n",
        "  try:\n",
        "    result = numerator / denominator\n",
        "  except ZeroDivisionError:\n",
        "    logging.error(\"Division by zero occurred.\")\n",
        "    result = None\n",
        "  return result\n",
        "\n",
        "# Configure logging\n",
        "logging.basicConfig(filename='error.log', level=logging.ERROR,\n",
        "                    format='%(asctime)s - %(levelname)s - %(message)s')\n",
        "\n",
        "# Example usage\n",
        "num1 = 10\n",
        "num2 = 0\n",
        "\n",
        "result = safe_division(num1, num2)\n",
        "\n",
        "if result is not None:\n",
        "  print(\"Result:\", result)"
      ],
      "metadata": {
        "colab": {
          "base_uri": "https://localhost:8080/"
        },
        "id": "5aarOIQi0AxS",
        "outputId": "37a50941-e4a6-45c5-a564-ed1d39ad605f"
      },
      "execution_count": 6,
      "outputs": [
        {
          "output_type": "stream",
          "name": "stderr",
          "text": [
            "ERROR:root:Division by zero occurred.\n"
          ]
        }
      ]
    },
    {
      "cell_type": "markdown",
      "source": [
        "# 7. How do you log information at different levels (INFO, ERROR, WARNING) in Python using the logging module?"
      ],
      "metadata": {
        "id": "R-vSVZ8s0NOx"
      }
    },
    {
      "cell_type": "code",
      "source": [
        "import logging\n",
        "\n",
        "# Configure logging\n",
        "logging.basicConfig(filename='my_log.log', level=logging.DEBUG,\n",
        "                    format='%(asctime)s - %(levelname)s - %(message)s')\n",
        "\n",
        "# Create a logger\n",
        "logger = logging.getLogger(__name__)\n",
        "\n",
        "def some_function():\n",
        "    \"\"\"\n",
        "    A function that demonstrates logging at different levels.\n",
        "    \"\"\"\n",
        "\n",
        "    logger.debug(\"This is a debug message.\")\n",
        "    logger.info(\"This is an informational message.\")\n",
        "    logger.warning(\"This is a warning message.\")\n",
        "    logger.error(\"This is an error message.\")\n",
        "    logger.critical(\"This is a critical message.\")\n",
        "\n",
        "if __name__ == \"__main__\":\n",
        "    some_function()"
      ],
      "metadata": {
        "colab": {
          "base_uri": "https://localhost:8080/"
        },
        "id": "Q6c86jqG0K7J",
        "outputId": "1a3948a6-1679-4285-e3bd-4ca93c158761"
      },
      "execution_count": 7,
      "outputs": [
        {
          "output_type": "stream",
          "name": "stderr",
          "text": [
            "WARNING:__main__:This is a warning message.\n",
            "ERROR:__main__:This is an error message.\n",
            "CRITICAL:__main__:This is a critical message.\n"
          ]
        }
      ]
    },
    {
      "cell_type": "markdown",
      "source": [
        "# 8. Write a program to handle a file opening error using exception handling."
      ],
      "metadata": {
        "id": "zNgmQoPr0dIY"
      }
    },
    {
      "cell_type": "code",
      "source": [
        "def read_file_content(filename):\n",
        "  \"\"\"\n",
        "  Reads the content of a file and handles potential file opening errors.\n",
        "\n",
        "  Args:\n",
        "    filename: The name of the file to read.\n",
        "\n",
        "  Returns:\n",
        "    A list of lines from the file, or None if an error occurred.\n",
        "  \"\"\"\n",
        "\n",
        "  try:\n",
        "    with open(filename, 'r') as file:\n",
        "      lines = file.readlines()\n",
        "      return lines\n",
        "  except FileNotFoundError:\n",
        "    print(f\"Error: File '{filename}' not found.\")\n",
        "    return None\n",
        "  except IOError as e:\n",
        "    print(f\"An I/O error occurred: {e}\")\n",
        "    return None\n",
        "\n",
        "# Example usage\n",
        "filename = \"my_file.txt\"\n",
        "file_content = read_file_content(filename)\n",
        "\n",
        "if file_content:\n",
        "  for line in file_content:\n",
        "    print(line.strip())"
      ],
      "metadata": {
        "colab": {
          "base_uri": "https://localhost:8080/"
        },
        "id": "CXTJMaxm0Uwz",
        "outputId": "26b77743-f195-4153-f56c-7bd0856d2e62"
      },
      "execution_count": 8,
      "outputs": [
        {
          "output_type": "stream",
          "name": "stdout",
          "text": [
            "This is the string to write to the file.\n"
          ]
        }
      ]
    },
    {
      "cell_type": "markdown",
      "source": [
        "# 9. How can you read a file line by line and store its content in a list in Python?"
      ],
      "metadata": {
        "id": "_Z_XE02F0mmw"
      }
    },
    {
      "cell_type": "code",
      "source": [
        "def read_file_to_list(filename):\n",
        "  \"\"\"\n",
        "  Reads a file line by line and stores its content in a list.\n",
        "\n",
        "  Args:\n",
        "    filename: The name of the file to read.\n",
        "\n",
        "  Returns:\n",
        "    A list containing each line of the file as a string,\n",
        "    or None if an error occurs.\n",
        "  \"\"\"\n",
        "\n",
        "  try:\n",
        "    with open(filename, 'r') as file:\n",
        "      lines = file.readlines()\n",
        "      return [line.strip() for line in lines]  # Remove newline characters\n",
        "  except FileNotFoundError:\n",
        "    print(f\"Error: File '{filename}' not found.\")\n",
        "    return None\n",
        "  except IOError as e:\n",
        "    print(f\"An I/O error occurred: {e}\")\n",
        "    return None\n",
        "\n",
        "# Example usage:\n",
        "filename = \"my_file.txt\"\n",
        "file_content = read_file_to_list(filename)\n",
        "\n",
        "if file_content:\n",
        "  print(file_content)"
      ],
      "metadata": {
        "colab": {
          "base_uri": "https://localhost:8080/"
        },
        "id": "_ik3CSjw0kzR",
        "outputId": "f77c3390-0662-42be-db75-b4812150f998"
      },
      "execution_count": 9,
      "outputs": [
        {
          "output_type": "stream",
          "name": "stdout",
          "text": [
            "['This is the string to write to the file.']\n"
          ]
        }
      ]
    },
    {
      "cell_type": "markdown",
      "source": [
        "# 10. How can you append data to an existing file in Python?"
      ],
      "metadata": {
        "id": "eyKDUdMG02kn"
      }
    },
    {
      "cell_type": "code",
      "source": [
        "def append_to_file(filename, data):\n",
        "  \"\"\"\n",
        "  Appends data to an existing file.\n",
        "\n",
        "  Args:\n",
        "    filename: The name of the file to append to.\n",
        "    data: The data to append to the file (string).\n",
        "  \"\"\"\n",
        "\n",
        "  try:\n",
        "    with open(filename, 'a') as file:\n",
        "      file.write(data + '\\n')  # Append data with a newline character\n",
        "  except IOError as e:\n",
        "    print(f\"An I/O error occurred: {e}\")\n",
        "\n",
        "# Example usage\n",
        "filename = \"my_file.txt\"\n",
        "data_to_append = \"This is new data to be appended.\"\n",
        "\n",
        "append_to_file(filename, data_to_append)"
      ],
      "metadata": {
        "id": "OVF7wxmx00ua"
      },
      "execution_count": 11,
      "outputs": []
    },
    {
      "cell_type": "markdown",
      "source": [
        "# 11. Write a Python program that uses a try-except block to handle an error when attempting to access a dictionary key that doesn't exist.\n"
      ],
      "metadata": {
        "id": "XVYIjPjF1B8H"
      }
    },
    {
      "cell_type": "code",
      "source": [
        "def safe_dict_access(dictionary, key):\n",
        "  \"\"\"\n",
        "  Safely accesses a value in a dictionary.\n",
        "\n",
        "  Args:\n",
        "    dictionary: The dictionary to access.\n",
        "    key: The key to look for in the dictionary.\n",
        "\n",
        "  Returns:\n",
        "    The value associated with the key if it exists,\n",
        "    otherwise returns None.\n",
        "  \"\"\"\n",
        "  try:\n",
        "    return dictionary[key]\n",
        "  except KeyError:\n",
        "    print(f\"Key '{key}' not found in the dictionary.\")\n",
        "    return None\n",
        "\n",
        "# Example usage:\n",
        "my_dict = {'a': 1, 'b': 2, 'c': 3}\n",
        "\n",
        "value_a = safe_dict_access(my_dict, 'a')\n",
        "value_d = safe_dict_access(my_dict, 'd')"
      ],
      "metadata": {
        "colab": {
          "base_uri": "https://localhost:8080/"
        },
        "id": "gbJKF25s0-ZM",
        "outputId": "055a8866-3f9f-4ea8-c98b-00bd2ada145f"
      },
      "execution_count": 13,
      "outputs": [
        {
          "output_type": "stream",
          "name": "stdout",
          "text": [
            "Key 'd' not found in the dictionary.\n"
          ]
        }
      ]
    },
    {
      "cell_type": "markdown",
      "source": [
        "# 12. Write a program that demonstrates using multiple except blocks to handle different types of exceptions."
      ],
      "metadata": {
        "id": "q5U72ZGD1XxH"
      }
    },
    {
      "cell_type": "code",
      "source": [
        "def divide_numbers(numerator, denominator):\n",
        "  \"\"\"\n",
        "  Divides two numbers and handles different exceptions.\n",
        "\n",
        "  Args:\n",
        "    numerator: The dividend.\n",
        "    denominator: The divisor.\n",
        "\n",
        "  Returns:\n",
        "    The result of the division if successful,\n",
        "    otherwise returns None or an appropriate error message.\n",
        "  \"\"\"\n",
        "\n",
        "  try:\n",
        "    result = numerator / denominator\n",
        "    return result\n",
        "  except ZeroDivisionError:\n",
        "    return \"Error: Division by zero is not allowed.\"\n",
        "  except TypeError:\n",
        "    return \"Error: Input values must be numbers.\"\n",
        "  except Exception as e:  # Catch all other exceptions\n",
        "    return f\"An unexpected error occurred: {e}\"\n",
        "\n",
        "# Example usage:\n",
        "num1 = 10\n",
        "num2 = 0\n",
        "num3 = \"hello\"\n",
        "\n",
        "result1 = divide_numbers(num1, num2)  # ZeroDivisionError\n",
        "result2 = divide_numbers(num1, num3)  # TypeError\n",
        "result3 = divide_numbers(num1, 5)     # Successful division\n",
        "\n",
        "print(result1)\n",
        "print(result2)\n",
        "print(result3)"
      ],
      "metadata": {
        "colab": {
          "base_uri": "https://localhost:8080/"
        },
        "id": "PC56MvhP1MQ7",
        "outputId": "332ca121-b80b-4e78-adb4-a58ce14e9ea1"
      },
      "execution_count": 14,
      "outputs": [
        {
          "output_type": "stream",
          "name": "stdout",
          "text": [
            "Error: Division by zero is not allowed.\n",
            "Error: Input values must be numbers.\n",
            "2.0\n"
          ]
        }
      ]
    },
    {
      "cell_type": "markdown",
      "source": [
        "# 13. How would you check if a file exists before attempting to read it in Python?"
      ],
      "metadata": {
        "id": "o-v4eUvq1kBH"
      }
    },
    {
      "cell_type": "code",
      "source": [
        "import os\n",
        "\n",
        "def read_file_if_exists(filename):\n",
        "  \"\"\"\n",
        "  Reads the content of a file if it exists.\n",
        "\n",
        "  Args:\n",
        "    filename: The name of the file to read.\n",
        "\n",
        "  Returns:\n",
        "    A list of lines from the file if it exists,\n",
        "    otherwise None.\n",
        "  \"\"\"\n",
        "\n",
        "  if os.path.isfile(filename):\n",
        "    try:\n",
        "      with open(filename, 'r') as file:\n",
        "        lines = file.readlines()\n",
        "        return lines\n",
        "    except IOError as e:\n",
        "      print(f\"An I/O error occurred while reading '{filename}': {e}\")\n",
        "      return None\n",
        "  else:\n",
        "    print(f\"File '{filename}' not found.\")\n",
        "    return None\n",
        "\n",
        "# Example usage\n",
        "filename = \"my_file.txt\"\n",
        "file_content = read_file_if_exists(filename)\n",
        "\n",
        "if file_content:\n",
        "  for line in file_content:\n",
        "    print(line.strip())"
      ],
      "metadata": {
        "colab": {
          "base_uri": "https://localhost:8080/"
        },
        "id": "Y8EMiVZL1d68",
        "outputId": "440132fe-582d-4b8b-b6c1-a8cb5dec3a4a"
      },
      "execution_count": 15,
      "outputs": [
        {
          "output_type": "stream",
          "name": "stdout",
          "text": [
            "This is the string to write to the file.This is new data to be appended.\n",
            "This is new data to be appended.\n"
          ]
        }
      ]
    },
    {
      "cell_type": "markdown",
      "source": [
        "# 14. Write a program that uses the logging module to log both informational and error messages."
      ],
      "metadata": {
        "id": "KV9faCUg11pG"
      }
    },
    {
      "cell_type": "code",
      "source": [
        "import logging\n",
        "\n",
        "# Configure logging\n",
        "logging.basicConfig(filename='my_log.log', level=logging.DEBUG,\n",
        "                    format='%(asctime)s - %(levelname)s - %(message)s')\n",
        "\n",
        "def divide_numbers(numerator, denominator):\n",
        "  \"\"\"\n",
        "  Divides two numbers and logs informational and error messages.\n",
        "\n",
        "  Args:\n",
        "    numerator: The dividend.\n",
        "    denominator: The divisor.\n",
        "\n",
        "  Returns:\n",
        "    The result of the division if successful,\n",
        "    otherwise None.\n",
        "  \"\"\"\n",
        "\n",
        "  logger = logging.getLogger(__name__)\n",
        "\n",
        "  try:\n",
        "    logger.info(f\"Dividing {numerator} by {denominator}.\")\n",
        "    result = numerator / denominator\n",
        "    logger.info(f\"Division successful. Result: {result}\")\n",
        "    return result\n",
        "  except ZeroDivisionError:\n",
        "    logger.error(\"Division by zero occurred.\")\n",
        "    return None\n",
        "\n",
        "# Example usage\n",
        "num1 = 10\n",
        "num2 = 0\n",
        "\n",
        "result = divide_numbers(num1, num2)\n",
        "\n",
        "if result is not None:\n",
        "  print(\"Result:\", result)"
      ],
      "metadata": {
        "colab": {
          "base_uri": "https://localhost:8080/"
        },
        "id": "f35td80P10KX",
        "outputId": "629e53ec-3fda-4a52-c6a1-1b18d0091a07"
      },
      "execution_count": 16,
      "outputs": [
        {
          "output_type": "stream",
          "name": "stderr",
          "text": [
            "ERROR:__main__:Division by zero occurred.\n"
          ]
        }
      ]
    },
    {
      "cell_type": "markdown",
      "source": [
        "# 15. Write a Python program that prints the content of a file and handles the case when the file is empty."
      ],
      "metadata": {
        "id": "dhqFiql92EJu"
      }
    },
    {
      "cell_type": "code",
      "source": [
        "def print_file_content(filename):\n",
        "  \"\"\"\n",
        "  Prints the content of a file. Handles empty files gracefully.\n",
        "\n",
        "  Args:\n",
        "    filename: The name of the file to read.\n",
        "  \"\"\"\n",
        "\n",
        "  try:\n",
        "    with open(filename, 'r') as file:\n",
        "      content = file.read()\n",
        "      if content:\n",
        "        print(content)\n",
        "      else:\n",
        "        print(f\"The file '{filename}' is empty.\")\n",
        "  except FileNotFoundError:\n",
        "    print(f\"Error: File '{filename}' not found.\")\n",
        "  except IOError as e:\n",
        "    print(f\"An I/O error occurred: {e}\")\n",
        "\n",
        "# Example usage\n",
        "filename = \"my_file.txt\"\n",
        "print_file_content(filename)"
      ],
      "metadata": {
        "colab": {
          "base_uri": "https://localhost:8080/"
        },
        "id": "tGkKIx1r2Bzy",
        "outputId": "db33ca6a-cd3c-46f8-dd16-3a4db18cc6ad"
      },
      "execution_count": 17,
      "outputs": [
        {
          "output_type": "stream",
          "name": "stdout",
          "text": [
            "This is the string to write to the file.This is new data to be appended.\n",
            "This is new data to be appended.\n",
            "\n"
          ]
        }
      ]
    },
    {
      "cell_type": "markdown",
      "source": [
        "# 16. Demonstrate how to use memory profiling to check the memory usage of a small program."
      ],
      "metadata": {
        "id": "rV5J6t0s2R73"
      }
    },
    {
      "cell_type": "code",
      "source": [
        "# prompt: Demonstrate how to use memory profiling to check the memory usage of a small program.\n",
        "\n",
        "!pip install memory_profiler\n",
        "\n",
        "%load_ext memory_profiler\n",
        "\n",
        "# Example function to profile (replace with your actual function)\n",
        "def my_memory_intensive_function():\n",
        "    # Your code that uses significant memory\n",
        "    a = [i for i in range(1000000)] #Example memory intensive operation\n",
        "\n",
        "%memit my_memory_intensive_function()"
      ],
      "metadata": {
        "colab": {
          "base_uri": "https://localhost:8080/"
        },
        "id": "t1np5pHv4yJM",
        "outputId": "013f53a4-0a6a-4dc5-d307-13c7ecf4780a"
      },
      "execution_count": 31,
      "outputs": [
        {
          "output_type": "stream",
          "name": "stdout",
          "text": [
            "Requirement already satisfied: memory_profiler in /usr/local/lib/python3.10/dist-packages (0.61.0)\n",
            "Requirement already satisfied: psutil in /usr/local/lib/python3.10/dist-packages (from memory_profiler) (5.9.5)\n",
            "The memory_profiler extension is already loaded. To reload it, use:\n",
            "  %reload_ext memory_profiler\n",
            "peak memory: 124.74 MiB, increment: 0.98 MiB\n"
          ]
        }
      ]
    },
    {
      "cell_type": "markdown",
      "source": [
        "# 17. Write a Python program to create and write a list of numbers to a file, one number per line."
      ],
      "metadata": {
        "id": "dsmuOAuB27a1"
      }
    },
    {
      "cell_type": "code",
      "source": [
        "def write_numbers_to_file(filename, numbers):\n",
        "  \"\"\"\n",
        "  Writes a list of numbers to a file, one number per line.\n",
        "\n",
        "  Args:\n",
        "    filename: The name of the file to write to.\n",
        "    numbers: A list of numbers to write to the file.\n",
        "  \"\"\"\n",
        "\n",
        "  try:\n",
        "    with open(filename, 'w') as file:\n",
        "      for number in numbers:\n",
        "        file.write(str(number) + '\\n')\n",
        "  except IOError as e:\n",
        "    print(f\"An I/O error occurred: {e}\")\n",
        "\n",
        "# Example usage:\n",
        "numbers = [1, 2, 3, 4, 5, 10, 20, 30]\n",
        "filename = \"numbers.txt\"\n",
        "\n",
        "write_numbers_to_file(filename, numbers)"
      ],
      "metadata": {
        "id": "YOjCw_L22gmQ"
      },
      "execution_count": 20,
      "outputs": []
    },
    {
      "cell_type": "markdown",
      "source": [
        "# 18. How would you implement a basic logging setup that logs to a file with rotation after 1MB?"
      ],
      "metadata": {
        "id": "wdTRVxZJ3Kpc"
      }
    },
    {
      "cell_type": "code",
      "source": [
        "import logging\n",
        "from logging.handlers import RotatingFileHandler\n",
        "\n",
        "# Configure logging\n",
        "logger = logging.getLogger(__name__)\n",
        "logger.setLevel(logging.INFO)  # Set the desired logging level\n",
        "\n",
        "# Create a RotatingFileHandler with 1MB maxBytes and 5 backups\n",
        "handler = RotatingFileHandler('my_app.log', maxBytes=1024 * 1024, backupCount=5)\n",
        "\n",
        "# Create a formatter for the log messages\n",
        "formatter = logging.Formatter('%(asctime)s - %(name)s - %(levelname)s - %(message)s')\n",
        "handler.setFormatter(formatter)\n",
        "\n",
        "# Add the handler to the logger\n",
        "logger.addHandler(handler)\n",
        "\n",
        "# Example usage\n",
        "logger.info(\"This is an informational message.\")\n",
        "logger.warning(\"This is a warning message.\")\n",
        "logger.error(\"This is an error message.\")"
      ],
      "metadata": {
        "colab": {
          "base_uri": "https://localhost:8080/"
        },
        "id": "vwTKdMRP3G5L",
        "outputId": "10e27741-8513-4638-c850-4a8cfa849e62"
      },
      "execution_count": 21,
      "outputs": [
        {
          "output_type": "stream",
          "name": "stderr",
          "text": [
            "INFO:__main__:This is an informational message.\n",
            "WARNING:__main__:This is a warning message.\n",
            "ERROR:__main__:This is an error message.\n"
          ]
        }
      ]
    },
    {
      "cell_type": "markdown",
      "source": [
        "# 19. Write a program that handles both IndexError and KeyError using a try-except block."
      ],
      "metadata": {
        "id": "8TPi0c7M3YWk"
      }
    },
    {
      "cell_type": "code",
      "source": [
        "def safe_access(data_structure, index_or_key):\n",
        "  \"\"\"\n",
        "  Safely accesses an element in a data structure (list or dictionary).\n",
        "\n",
        "  Args:\n",
        "    data_structure: The list or dictionary to access.\n",
        "    index_or_key: The index or key to use for accessing the element.\n",
        "\n",
        "  Returns:\n",
        "    The accessed element if successful,\n",
        "    otherwise returns None and prints an appropriate error message.\n",
        "  \"\"\"\n",
        "  try:\n",
        "    return data_structure[index_or_key]\n",
        "  except IndexError:\n",
        "    print(f\"Index '{index_or_key}' is out of range.\")\n",
        "    return None\n",
        "  except KeyError:\n",
        "    print(f\"Key '{index_or_key}' not found in the dictionary.\")\n",
        "    return None\n",
        "\n",
        "# Example usage:\n",
        "my_list = [1, 2, 3]\n",
        "my_dict = {'a': 1, 'b': 2}\n",
        "\n",
        "print(safe_access(my_list, 0))   # Output: 1\n",
        "print(safe_access(my_list, 5))   # Output: Index '5' is out of range.\n",
        "print(safe_access(my_dict, 'a'))  # Output: 1\n",
        "print(safe_access(my_dict, 'c'))  # Output: Key 'c' not found in the dictionary."
      ],
      "metadata": {
        "colab": {
          "base_uri": "https://localhost:8080/"
        },
        "id": "2zUUgCxu3VWE",
        "outputId": "ef2d85da-9677-4737-8571-89e4d6decbce"
      },
      "execution_count": 22,
      "outputs": [
        {
          "output_type": "stream",
          "name": "stdout",
          "text": [
            "1\n",
            "Index '5' is out of range.\n",
            "None\n",
            "1\n",
            "Key 'c' not found in the dictionary.\n",
            "None\n"
          ]
        }
      ]
    },
    {
      "cell_type": "markdown",
      "source": [
        "# 20. How would you open a file and read its contents using a context manager in Python?"
      ],
      "metadata": {
        "id": "2ssZRtIR3kYO"
      }
    },
    {
      "cell_type": "code",
      "source": [
        "def read_file_content(filename):\n",
        "  \"\"\"\n",
        "  Reads the content of a file using a context manager.\n",
        "\n",
        "  Args:\n",
        "    filename: The name of the file to read.\n",
        "\n",
        "  Returns:\n",
        "    The content of the file as a string.\n",
        "  \"\"\"\n",
        "\n",
        "  try:\n",
        "    with open(filename, 'r') as file:\n",
        "      content = file.read()\n",
        "      return content\n",
        "  except FileNotFoundError:\n",
        "    print(f\"Error: File '{filename}' not found.\")\n",
        "    return None\n",
        "  except IOError as e:\n",
        "    print(f\"An I/O error occurred: {e}\")\n",
        "    return None\n",
        "\n",
        "# Example usage:\n",
        "filename = \"my_file.txt\"\n",
        "file_content = read_file_content(filename)\n",
        "\n",
        "if file_content:\n",
        "  print(file_content)"
      ],
      "metadata": {
        "colab": {
          "base_uri": "https://localhost:8080/"
        },
        "id": "qIFEPkud3hrr",
        "outputId": "479e4568-e1ac-491e-8e67-cb05bf19158f"
      },
      "execution_count": 23,
      "outputs": [
        {
          "output_type": "stream",
          "name": "stdout",
          "text": [
            "This is the string to write to the file.This is new data to be appended.\n",
            "This is new data to be appended.\n",
            "\n"
          ]
        }
      ]
    },
    {
      "cell_type": "markdown",
      "source": [
        "# 21. Write a Python program that reads a file and prints the number of occurrences of a specific word."
      ],
      "metadata": {
        "id": "1vdRXGvn30f0"
      }
    },
    {
      "cell_type": "code",
      "source": [
        "def count_word_occurrences(filename, word):\n",
        "  \"\"\"\n",
        "  Counts the occurrences of a specific word in a file.\n",
        "\n",
        "  Args:\n",
        "    filename: The name of the file to read.\n",
        "    word: The word to count.\n",
        "\n",
        "  Returns:\n",
        "    The number of occurrences of the word in the file.\n",
        "  \"\"\"\n",
        "\n",
        "  count = 0\n",
        "  with open(filename, 'r') as file:\n",
        "    for line in file:\n",
        "      words = line.lower().split()  # Convert to lowercase and split into words\n",
        "      count += words.count(word.lower())  # Count occurrences of the word in each line\n",
        "\n",
        "  return count\n",
        "\n",
        "# Example usage:\n",
        "filename = \"my_file.txt\"\n",
        "word_to_count = \"the\"\n",
        "\n",
        "occurrences = count_word_occurrences(filename, word_to_count)\n",
        "print(f\"The word '{word_to_count}' occurs {occurrences} times in '{filename}'.\")"
      ],
      "metadata": {
        "colab": {
          "base_uri": "https://localhost:8080/"
        },
        "id": "2wkqa8Vo3tY5",
        "outputId": "c0eeb3be-f309-4d5c-ebb1-da4c5a07f514"
      },
      "execution_count": 24,
      "outputs": [
        {
          "output_type": "stream",
          "name": "stdout",
          "text": [
            "The word 'the' occurs 2 times in 'my_file.txt'.\n"
          ]
        }
      ]
    },
    {
      "cell_type": "markdown",
      "source": [
        "# 22. How can you check if a file is empty before attempting to read its contents?"
      ],
      "metadata": {
        "id": "vYsz2ba14FW8"
      }
    },
    {
      "cell_type": "code",
      "source": [
        "import os\n",
        "\n",
        "def read_file_if_not_empty(filename):\n",
        "  \"\"\"\n",
        "  Reads the content of a file if it exists and is not empty.\n",
        "\n",
        "  Args:\n",
        "    filename: The name of the file to read.\n",
        "\n",
        "  Returns:\n",
        "    The content of the file as a string if the file exists and is not empty,\n",
        "    None otherwise.\n",
        "  \"\"\"\n",
        "\n",
        "  if os.path.isfile(filename) and os.path.getsize(filename) > 0:\n",
        "    try:\n",
        "      with open(filename, 'r') as file:\n",
        "        return file.read()\n",
        "    except IOError as e:\n",
        "      print(f\"An I/O error occurred while reading '{filename}': {e}\")\n",
        "      return None\n",
        "  else:\n",
        "    if not os.path.isfile(filename):\n",
        "      print(f\"File '{filename}' not found.\")\n",
        "    else:\n",
        "      print(f\"File '{filename}' is empty.\")\n",
        "    return None\n",
        "\n",
        "# Example usage:\n",
        "filename = \"my_file.txt\"\n",
        "file_content = read_file_if_not_empty(filename)\n",
        "\n",
        "if file_content:\n",
        "  print(file_content)"
      ],
      "metadata": {
        "colab": {
          "base_uri": "https://localhost:8080/"
        },
        "id": "F5M2aJWA4ENc",
        "outputId": "2e73b366-aea0-4775-ca4a-fd25bc38a41a"
      },
      "execution_count": 25,
      "outputs": [
        {
          "output_type": "stream",
          "name": "stdout",
          "text": [
            "This is the string to write to the file.This is new data to be appended.\n",
            "This is new data to be appended.\n",
            "\n"
          ]
        }
      ]
    },
    {
      "cell_type": "markdown",
      "source": [
        "# 23. Write a Python program that writes to a log file when an error occurs during file handling."
      ],
      "metadata": {
        "id": "lLHzK_934OL7"
      }
    },
    {
      "cell_type": "code",
      "source": [
        "import logging\n",
        "\n",
        "def write_to_file(filename, data):\n",
        "  \"\"\"\n",
        "  Writes data to a file and logs any errors.\n",
        "\n",
        "  Args:\n",
        "    filename: The name of the file to write to.\n",
        "    data: The data to write to the file.\n",
        "  \"\"\"\n",
        "\n",
        "  logger = logging.getLogger(__name__)\n",
        "  logger.setLevel(logging.INFO)\n",
        "\n",
        "  # Create a file handler\n",
        "  file_handler = logging.FileHandler('error.log')\n",
        "  file_handler.setLevel(logging.ERROR)  # Only log errors to the file\n",
        "  formatter = logging.Formatter('%(asctime)s - %(levelname)s - %(message)s')\n",
        "  file_handler.setFormatter(formatter)\n",
        "  logger.addHandler(file_handler)\n",
        "\n",
        "  try:\n",
        "    with open(filename, 'w') as file:\n",
        "      file.write(data)\n",
        "      logger.info(f\"Data written successfully to '{filename}'.\")\n",
        "  except IOError as e:\n",
        "    logger.error(f\"I/O error occurred while writing to '{filename}': {e}\")\n",
        "\n",
        "# Example usage:\n",
        "filename = \"my_data.txt\"\n",
        "data = \"This is some data to write to the file.\"\n",
        "\n",
        "write_to_file(filename, data)"
      ],
      "metadata": {
        "colab": {
          "base_uri": "https://localhost:8080/"
        },
        "id": "rsUrp1kr4NHX",
        "outputId": "b34da1d5-6ce0-46ca-a3cf-0fb0f36e8a0b"
      },
      "execution_count": 26,
      "outputs": [
        {
          "output_type": "stream",
          "name": "stderr",
          "text": [
            "INFO:__main__:Data written successfully to 'my_data.txt'.\n"
          ]
        }
      ]
    }
  ]
}